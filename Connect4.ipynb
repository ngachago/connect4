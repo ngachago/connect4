{
 "cells": [
  {
   "cell_type": "markdown",
   "metadata": {},
   "source": [
    "# Code Wars Challenge\n",
    "\n",
    "Take a look at wiki description of Connect Four game:\n",
    "\n",
    "Wiki Connect Four\n",
    "\n",
    "The grid is 6 row by 7 columns, those being named from A to G.\n",
    "\n",
    "You will receive a list of strings showing the order of the pieces which dropped in columns:\n",
    "\n",
    "pieces_position_list = [\"A_Red\", \"B_Yellow\", \"A_Red\", \"B_Yellow\", \"A_Red\", \"B_Yellow\", \"G_Red\", \"B_Yellow\"] The list may contain up to 42 moves and shows the order the players are playing.\n",
    "\n",
    "The first player who connects four items of the same color is the winner.\n",
    "\n",
    "You should return \"Yellow\", \"Red\" or \"Draw\" accordingly."
   ]
  },
  {
   "cell_type": "code",
   "execution_count": 126,
   "metadata": {},
   "outputs": [],
   "source": [
    "import numpy as np\n",
    "def who_is_winner(pieces_position_list):\n",
    "    grid = np.full((6, 7), 'none', dtype='object')\n",
    "    split_list = []\n",
    "    \n",
    "    for i in pieces_position_list:\n",
    "        split_list.append(i.split('_'))\n",
    "        \n",
    "    cols = {'A':0, 'B':1, 'C':2, 'D':3, 'E':4, 'F':5, 'G':6}\n",
    "    idx = [5, 4, 3, 2, 1, 0]\n",
    "    \n",
    "    for lst in split_list:                  \n",
    "        for key, value in cols.items():      \n",
    "            if lst[0] == key:\n",
    "                for i in idx:\n",
    "                    if grid[i, value] == 'none':\n",
    "                        grid[i, value] = lst[1]\n",
    "                \n",
    "                        #Check columns\n",
    "                        col = grid[:, value].tolist()\n",
    "                        for c in range(3):\n",
    "                            if set(col[c:c+4]) == 1 and col[c] != 'none':\n",
    "                                return lst[1]\n",
    "\n",
    "                        # Check rows\n",
    "                        row = grid[i, :].tolist()\n",
    "                        for r in range(4):\n",
    "                            if set(row[r:r+4]) == 1 and row[r] != 'none':\n",
    "                                return lst[1]\n",
    "\n",
    "                        # Check left-to-right (ltr) diagonal\n",
    "                        ltr_diagonal = [lst[1]]\n",
    "                        for offset in range(-7, 7):\n",
    "                            if offset == 0: continue\n",
    "                            ltr_position = [i-offset, value+offset]\n",
    "                            if ((ltr_position[0]>=0 and ltr_position[0]<=5) and (ltr_position[1]>=0 and ltr_position[1]<=6)):\n",
    "                                ltr_diagonal.append(grid[ltr_position[0], ltr_position[1]])\n",
    "                        if len(ltr_diagonal) >= 4:\n",
    "                            for l in range(len(ltr_diagonal)-4):\n",
    "                                if set(row[l:l+4]) == 1 and row[l] != 'none':\n",
    "                                    return lst[1]\n",
    "\n",
    "                        # Check right-to-left (rtl) diagonal\n",
    "                        rtl_diagonal = [lst[1]]\n",
    "                        for offset in range(-7, 7):\n",
    "                            if offset == 0: continue\n",
    "                            rtl_position = [i-offset, value-offset]\n",
    "                            if ((rtl_position[0]>=0 and rtl_position[0]<=5) and (rtl_position[1]>=0 and rtl_position[1]<=6)):\n",
    "                                rtl_diagonal.append(grid[rtl_position[0], rtl_position[1]])\n",
    "                        if len(rtl_diagonal) >= 4:\n",
    "                            for t in range(len(rtl_diagonal)-4):\n",
    "                                if set(row[t:t+4]) == 1 and row[t] != 'none':\n",
    "                                    return lst[1]                 \n",
    "    \n",
    "# Initial test should return Yellow\n",
    "who_is_winner([\"A_Red\", \"B_Yellow\", \"A_Red\", \"B_Yellow\", \"A_Red\", \"B_Yellow\", \"G_Red\", \"B_Yellow\"])"
   ]
  },
  {
   "cell_type": "markdown",
   "metadata": {},
   "source": [
    "## Tests"
   ]
  },
  {
   "cell_type": "code",
   "execution_count": 127,
   "metadata": {},
   "outputs": [],
   "source": [
    "# Test 1 - Yellow\n",
    "who_is_winner([ \n",
    "\"C_Yellow\", \"E_Red\", \"G_Yellow\", \"B_Red\", \"D_Yellow\", \"B_Red\", \"B_Yellow\", \"G_Red\", \"C_Yellow\", \"C_Red\",\n",
    "\"D_Yellow\", \"F_Red\", \"E_Yellow\", \"A_Red\", \"A_Yellow\", \"G_Red\", \"A_Yellow\", \"F_Red\", \"F_Yellow\", \"D_Red\", \n",
    "\"B_Yellow\", \"E_Red\", \"D_Yellow\", \"A_Red\", \"G_Yellow\", \"D_Red\", \"D_Yellow\", \"C_Red\"\n",
    "])"
   ]
  },
  {
   "cell_type": "code",
   "execution_count": 128,
   "metadata": {},
   "outputs": [],
   "source": [
    "# Test 2 - Yellow\n",
    "who_is_winner([\n",
    "\"C_Yellow\", \"B_Red\", \"B_Yellow\", \"E_Red\", \"D_Yellow\", \"G_Red\", \"B_Yellow\", \"G_Red\", \"E_Yellow\", \"A_Red\", \n",
    "\"G_Yellow\", \"C_Red\", \"A_Yellow\", \"A_Red\", \"D_Yellow\", \"B_Red\", \"G_Yellow\", \"A_Red\", \"F_Yellow\", \"B_Red\", \n",
    "\"D_Yellow\", \"A_Red\", \"F_Yellow\", \"F_Red\", \"B_Yellow\", \"F_Red\", \"F_Yellow\", \"G_Red\", \"A_Yellow\", \"F_Red\", \n",
    "\"C_Yellow\", \"C_Red\", \"G_Yellow\", \"C_Red\", \"D_Yellow\", \"D_Red\", \"E_Yellow\", \"D_Red\", \"E_Yellow\", \"C_Red\", \n",
    "\"E_Yellow\", \"E_Red\"])"
   ]
  },
  {
   "cell_type": "code",
   "execution_count": 129,
   "metadata": {},
   "outputs": [],
   "source": [
    "# Test 3 - Red\n",
    "who_is_winner([\n",
    "\"F_Yellow\", \"G_Red\", \"D_Yellow\", \"C_Red\", \"A_Yellow\", \"A_Red\", \"E_Yellow\", \"D_Red\", \"D_Yellow\", \"F_Red\", \n",
    "\"B_Yellow\", \"E_Red\", \"C_Yellow\", \"D_Red\", \"F_Yellow\", \"D_Red\", \"D_Yellow\", \"F_Red\", \"G_Yellow\", \"C_Red\", \n",
    "\"F_Yellow\", \"E_Red\", \"A_Yellow\", \"A_Red\", \"C_Yellow\", \"B_Red\", \"E_Yellow\", \"C_Red\", \"E_Yellow\", \"G_Red\", \n",
    "\"A_Yellow\", \"A_Red\", \"G_Yellow\", \"C_Red\", \"B_Yellow\", \"E_Red\", \"F_Yellow\", \"G_Red\", \"G_Yellow\", \"B_Red\", \n",
    "\"B_Yellow\", \"B_Red\"\n",
    "])"
   ]
  },
  {
   "cell_type": "code",
   "execution_count": 123,
   "metadata": {},
   "outputs": [],
   "source": [
    "# Test 4 - Red\n",
    "who_is_winner([\n",
    "\"A_Yellow\", \"B_Red\", \"B_Yellow\", \"C_Red\", \"G_Yellow\", \"C_Red\", \"C_Yellow\", \"D_Red\", \"G_Yellow\", \"D_Red\",\n",
    "\"G_Yellow\", \"D_Red\", \"F_Yellow\", \"E_Red\", \"D_Yellow\"\n",
    "])"
   ]
  },
  {
   "cell_type": "code",
   "execution_count": 124,
   "metadata": {},
   "outputs": [],
   "source": [
    "# Test 5 - Yellow\n",
    "who_is_winner([\n",
    "\"A_Red\", \"B_Yellow\", \"A_Red\", \"B_Yellow\", \"A_Red\", \"B_Yellow\", \"G_Red\", \"B_Yellow\"\n",
    "])"
   ]
  },
  {
   "cell_type": "code",
   "execution_count": 125,
   "metadata": {},
   "outputs": [],
   "source": [
    "# Test 6 - Draw\n",
    "who_is_winner([ \n",
    "\"A_Red\", \"B_Yellow\", \"A_Red\", \"E_Yellow\", \"F_Red\", \"G_Yellow\", \"A_Red\", \"G_Yellow\"\n",
    "])"
   ]
  },
  {
   "cell_type": "code",
   "execution_count": 115,
   "metadata": {},
   "outputs": [
    {
     "data": {
      "text/plain": [
       "array([['none', 'none', 'none', 'none', 'none', 'none', 'none'],\n",
       "       ['none', 'none', 'none', 'none', 'none', 'none', 'none'],\n",
       "       ['none', 'none', 'none', 'test', 'none', 'none', 'none'],\n",
       "       ['none', 'none', 'none', 'none', 'test', 'none', 'none'],\n",
       "       ['none', 'none', 'none', 'none', 'none', 'test', 'none'],\n",
       "       ['none', 'none', 'none', 'none', 'none', 'none', 'test']],\n",
       "      dtype=object)"
      ]
     },
     "execution_count": 115,
     "metadata": {},
     "output_type": "execute_result"
    }
   ],
   "source": [
    "grid = np.full((6, 7), 'none', dtype='object')\n",
    "grid[2, 3] = 'test'\n",
    "grid[5, 6] = 'test'\n",
    "grid[4, 5] = 'test'\n",
    "grid[3, 4] = 'test'\n",
    "grid[1, 2] = 'none'\n",
    "grid[0, 1] = 'none'\n",
    "\n",
    "grid"
   ]
  },
  {
   "cell_type": "code",
   "execution_count": 45,
   "metadata": {},
   "outputs": [
    {
     "data": {
      "text/plain": [
       "4"
      ]
     },
     "execution_count": 45,
     "metadata": {},
     "output_type": "execute_result"
    }
   ],
   "source": [
    "origin = [2, 3]\n",
    "rtl_diagonal = ['test']\n",
    "\n",
    "for offset in range(-7, 7):\n",
    "    if offset == 0: continue\n",
    "    new_position = [origin[0]-offset, origin[1]-offset]\n",
    "    if ((new_position[0]>=0 and new_position[0]<=5) and (new_position[1]>=0 and new_position[1]<=6)):\n",
    "        rtl_diagonal.append(grid[new_position[0], new_position[1]])\n",
    "    for i in range(len(rtl_diagonal)-4):\n",
    "        if set(row[i:i+4]) == 1 and row[i] != 'none':\n",
    "            return lst[1]\n",
    "count_rtl"
   ]
  },
  {
   "cell_type": "code",
   "execution_count": 18,
   "metadata": {},
   "outputs": [
    {
     "data": {
      "text/plain": [
       "{'none', 'test'}"
      ]
     },
     "execution_count": 18,
     "metadata": {},
     "output_type": "execute_result"
    }
   ],
   "source": [
    "set(row)"
   ]
  },
  {
   "cell_type": "code",
   "execution_count": 19,
   "metadata": {},
   "outputs": [
    {
     "data": {
      "text/plain": [
       "2"
      ]
     },
     "execution_count": 19,
     "metadata": {},
     "output_type": "execute_result"
    }
   ],
   "source": [
    "len(set(row))"
   ]
  },
  {
   "cell_type": "code",
   "execution_count": 21,
   "metadata": {},
   "outputs": [
    {
     "data": {
      "text/plain": [
       "{'none', 'test'}"
      ]
     },
     "execution_count": 21,
     "metadata": {},
     "output_type": "execute_result"
    }
   ],
   "source": [
    "set(row[0:4])"
   ]
  },
  {
   "cell_type": "code",
   "execution_count": 53,
   "metadata": {},
   "outputs": [
    {
     "data": {
      "text/plain": [
       "[2, 3, 4, 5]"
      ]
     },
     "execution_count": 53,
     "metadata": {},
     "output_type": "execute_result"
    }
   ],
   "source": [
    "lst = [1, 2, 3, 4, 5]\n",
    "lst[-4:]"
   ]
  },
  {
   "cell_type": "code",
   "execution_count": null,
   "metadata": {},
   "outputs": [],
   "source": []
  }
 ],
 "metadata": {
  "kernelspec": {
   "display_name": "Python 3",
   "language": "python",
   "name": "python3"
  },
  "language_info": {
   "codemirror_mode": {
    "name": "ipython",
    "version": 3
   },
   "file_extension": ".py",
   "mimetype": "text/x-python",
   "name": "python",
   "nbconvert_exporter": "python",
   "pygments_lexer": "ipython3",
   "version": "3.8.3"
  },
  "toc": {
   "base_numbering": 1,
   "nav_menu": {},
   "number_sections": true,
   "sideBar": true,
   "skip_h1_title": false,
   "title_cell": "Table of Contents",
   "title_sidebar": "Contents",
   "toc_cell": false,
   "toc_position": {},
   "toc_section_display": true,
   "toc_window_display": false
  }
 },
 "nbformat": 4,
 "nbformat_minor": 4
}
