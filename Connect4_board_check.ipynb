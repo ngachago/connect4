{
 "cells": [
  {
   "cell_type": "markdown",
   "metadata": {},
   "source": [
    "# Code Wars Challenge\n",
    "\n",
    "Take a look at wiki description of Connect Four game:\n",
    "\n",
    "Wiki Connect Four\n",
    "\n",
    "The grid is 6 row by 7 columns, those being named from A to G.\n",
    "\n",
    "You will receive a list of strings showing the order of the pieces which dropped in columns:\n",
    "\n",
    "pieces_position_list = [\"A_Red\", \"B_Yellow\", \"A_Red\", \"B_Yellow\", \"A_Red\", \"B_Yellow\", \"G_Red\", \"B_Yellow\"] The list may contain up to 42 moves and shows the order the players are playing.\n",
    "\n",
    "The first player who connects four items of the same color is the winner.\n",
    "\n",
    "You should return \"Yellow\", \"Red\" or \"Draw\" accordingly."
   ]
  },
  {
   "cell_type": "code",
   "execution_count": 5,
   "metadata": {},
   "outputs": [],
   "source": [
    "import numpy as np"
   ]
  },
  {
   "cell_type": "code",
   "execution_count": 38,
   "metadata": {},
   "outputs": [],
   "source": [
    "def lst_splitter(pieces_position_list):\n",
    "    split_list = []\n",
    "    for position in pieces_position_list:\n",
    "        split_list.append(position.split('_'))\n",
    "    return split_list"
   ]
  },
  {
   "cell_type": "code",
   "execution_count": 39,
   "metadata": {},
   "outputs": [
    {
     "data": {
      "text/plain": [
       "[['A', 'Red'],\n",
       " ['B', 'Yellow'],\n",
       " ['A', 'Red'],\n",
       " ['B', 'Yellow'],\n",
       " ['A', 'Red'],\n",
       " ['B', 'Yellow'],\n",
       " ['G', 'Red'],\n",
       " ['B', 'Yellow']]"
      ]
     },
     "execution_count": 39,
     "metadata": {},
     "output_type": "execute_result"
    }
   ],
   "source": [
    "lst_splitter([\"A_Red\", \"B_Yellow\", \"A_Red\", \"B_Yellow\", \"A_Red\", \"B_Yellow\", \"G_Red\", \"B_Yellow\"])"
   ]
  },
  {
   "cell_type": "code",
   "execution_count": 71,
   "metadata": {},
   "outputs": [],
   "source": [
    "def init_grid():\n",
    "    grid = np.full((6, 7), 'none', dtype='object')\n",
    "    return grid\n",
    "\n",
    "def grid_builder(grid, key, value, lst):\n",
    "    idx = [5, 4, 3, 2, 1, 0]\n",
    "    if lst[0] == key:\n",
    "        for i in idx:\n",
    "            if grid[i, value] == 'none':\n",
    "                grid[i, value] = lst[1]\n",
    "                return grid, i\n",
    "    return grid, -1"
   ]
  },
  {
   "cell_type": "code",
   "execution_count": 46,
   "metadata": {},
   "outputs": [
    {
     "name": "stdout",
     "output_type": "stream",
     "text": [
      "[['none' 'none' 'none' 'none' 'none' 'none' 'none']\n",
      " ['none' 'none' 'none' 'none' 'none' 'none' 'none']\n",
      " ['none' 'none' 'none' 'none' 'none' 'none' 'none']\n",
      " ['none' 'none' 'none' 'none' 'none' 'none' 'none']\n",
      " ['none' 'none' 'none' 'none' 'none' 'none' 'none']\n",
      " ['none' 'Yellow' 'none' 'none' 'none' 'none' 'none']]\n",
      "5\n"
     ]
    }
   ],
   "source": [
    "test_grid = init_grid()\n",
    "test_grid_2, i = grid_builder(test_grid, \"B\", 1, ['B', 'Yellow'])\n",
    "print(test_grid_2)\n",
    "print(i)"
   ]
  },
  {
   "cell_type": "code",
   "execution_count": 99,
   "metadata": {},
   "outputs": [],
   "source": [
    "def col_check(grid, value, i):\n",
    "    col = grid[:, value].tolist()\n",
    "    for c in range(3):\n",
    "        if len(set(col[c:c+4])) == 1 and col[c] != 'none':\n",
    "            return grid[i, value]\n",
    "\n",
    "def row_check(grid, value, i):\n",
    "    row = grid[i, :].tolist()\n",
    "    for r in range(4):\n",
    "        if len(set(row[r:r+4])) == 1 and row[r] != 'none':\n",
    "            return grid[i, value]   "
   ]
  },
  {
   "cell_type": "code",
   "execution_count": 100,
   "metadata": {},
   "outputs": [
    {
     "data": {
      "text/plain": [
       "'Yellow'"
      ]
     },
     "execution_count": 100,
     "metadata": {},
     "output_type": "execute_result"
    }
   ],
   "source": [
    "sample_grid = np.array([['none', 'none', 'none', 'none', 'none', 'none', 'none'],\n",
    " ['none', 'none', 'none', 'none', 'none', 'none', 'none'],\n",
    " ['none', 'Yellow', 'none', 'none', 'none', 'none', 'none'],\n",
    " ['Red', 'Yellow', 'none', 'none', 'none', 'none', 'none'],\n",
    " ['Red', 'Yellow', 'none', 'none', 'none', 'none', 'none'],\n",
    " ['Red', 'Yellow', 'none', 'none', 'none', 'none', 'Red']])\n",
    "\n",
    "col_check(sample_grid, 1, 2)"
   ]
  },
  {
   "cell_type": "code",
   "execution_count": 143,
   "metadata": {},
   "outputs": [],
   "source": [
    "def ltr_diagonal_check(grid, value, i):\n",
    "    # Check left-to-right (ltr) diagonal\n",
    "    ltr_diagonal = []\n",
    "    for offset in range(-7, 7):\n",
    "        ltr_position = [i-offset, value+offset]\n",
    "        if ((ltr_position[0]>=0 and ltr_position[0]<=5) and (ltr_position[1]>=0 and ltr_position[1]<=6)):\n",
    "            ltr_diagonal.append(grid[ltr_position[0], ltr_position[1]])\n",
    "    if len(ltr_diagonal) > 4:\n",
    "        for l in range((len(ltr_diagonal)-4)):\n",
    "            if len(set(ltr_diagonal[l:l+4])) == 1 and ltr_diagonal[l] != 'none':\n",
    "                return grid[i, value]\n",
    "    if len(ltr_diagonal) == 4 and len(set(ltr_diagonal)) == 1 and ltr_diagonal[-1] != 'none':\n",
    "        return grid[i, value]\n",
    "\n",
    "def rtl_diagonal_check(grid, value, i):  \n",
    "    # Check right-to-left (rtl) diagonal\n",
    "    rtl_diagonal = []\n",
    "    for offset in range(-7, 7):\n",
    "        rtl_position = [i-offset, value-offset]\n",
    "        if ((rtl_position[0]>=0 and rtl_position[0]<=5) and (rtl_position[1]>=0 and rtl_position[1]<=6)):\n",
    "            rtl_diagonal.append(grid[rtl_position[0], rtl_position[1]])\n",
    "    if len(rtl_diagonal) > 4:\n",
    "        for l in range((len(rtl_diagonal)-4)):\n",
    "            if len(set(rtl_diagonal[l:l+4])) == 1 and rtl_diagonal[l] != 'none':\n",
    "                return grid[i, value]\n",
    "    if len(rtl_diagonal) == 4 and len(set(rtl_diagonal)) == 1 and rtl_diagonal[-1] != 'none':\n",
    "        return grid[i, value]    "
   ]
  },
  {
   "cell_type": "code",
   "execution_count": 127,
   "metadata": {},
   "outputs": [
    {
     "name": "stdout",
     "output_type": "stream",
     "text": [
      "['none', 'none', 'none']\n"
     ]
    }
   ],
   "source": [
    "rtl_diagonal_check(sample_grid, 6, 2)"
   ]
  },
  {
   "cell_type": "code",
   "execution_count": 141,
   "metadata": {},
   "outputs": [
    {
     "name": "stdout",
     "output_type": "stream",
     "text": [
      "['none', 'none', 'none', 'none']\n"
     ]
    }
   ],
   "source": [
    "ltr_diagonal_check(sample_grid, 6, 2)"
   ]
  },
  {
   "cell_type": "code",
   "execution_count": 144,
   "metadata": {},
   "outputs": [
    {
     "data": {
      "text/plain": [
       "'Yellow'"
      ]
     },
     "execution_count": 144,
     "metadata": {},
     "output_type": "execute_result"
    }
   ],
   "source": [
    "def who_is_winner(pieces_position_list):\n",
    "    cols = {'A':0, 'B':1, 'C':2, 'D':3, 'E':4, 'F':5, 'G':6}\n",
    "    split_list = lst_splitter(pieces_position_list)\n",
    "    empty_grid = init_grid()\n",
    "    for lst in split_list:\n",
    "        for key, value in cols.items():\n",
    "            new_grid, i = grid_builder(empty_grid, key, value, lst)\n",
    "            if i > -1:\n",
    "                col_ans = col_check(new_grid, value, i)\n",
    "                if col_ans != None:\n",
    "                    return col_ans\n",
    "                row_ans = row_check(new_grid, value, i)\n",
    "                if row_ans != None:\n",
    "                    return row_ans\n",
    "                ltr_ans = ltr_diagonal_check(new_grid, value, i)\n",
    "                if ltr_ans != None:\n",
    "                    return ltr_ans\n",
    "                rtl_ans = rtl_diagonal_check(new_grid, value, i)\n",
    "                if rtl_ans != None:\n",
    "                    return rtl_ans\n",
    "                empty_grid = new_grid\n",
    "    return \"Draw\"\n",
    "                                \n",
    "# Initial test should return Yellow\n",
    "who_is_winner([\"A_Red\", \"B_Yellow\", \"A_Red\", \"B_Yellow\", \"A_Red\", \"B_Yellow\", \"G_Red\", \"B_Yellow\"])"
   ]
  },
  {
   "cell_type": "markdown",
   "metadata": {},
   "source": [
    "## Tests"
   ]
  },
  {
   "cell_type": "code",
   "execution_count": 145,
   "metadata": {},
   "outputs": [
    {
     "data": {
      "text/plain": [
       "'Yellow'"
      ]
     },
     "execution_count": 145,
     "metadata": {},
     "output_type": "execute_result"
    }
   ],
   "source": [
    "# Test 1 - Yellow\n",
    "who_is_winner([ \n",
    "\"C_Yellow\", \"E_Red\", \"G_Yellow\", \"B_Red\", \"D_Yellow\", \"B_Red\", \"B_Yellow\", \"G_Red\", \"C_Yellow\", \"C_Red\",\n",
    "\"D_Yellow\", \"F_Red\", \"E_Yellow\", \"A_Red\", \"A_Yellow\", \"G_Red\", \"A_Yellow\", \"F_Red\", \"F_Yellow\", \"D_Red\", \n",
    "\"B_Yellow\", \"E_Red\", \"D_Yellow\", \"A_Red\", \"G_Yellow\", \"D_Red\", \"D_Yellow\", \"C_Red\"\n",
    "])"
   ]
  },
  {
   "cell_type": "code",
   "execution_count": 146,
   "metadata": {},
   "outputs": [
    {
     "data": {
      "text/plain": [
       "'Yellow'"
      ]
     },
     "execution_count": 146,
     "metadata": {},
     "output_type": "execute_result"
    }
   ],
   "source": [
    "# Test 2 - Yellow\n",
    "who_is_winner([\n",
    "\"C_Yellow\", \"B_Red\", \"B_Yellow\", \"E_Red\", \"D_Yellow\", \"G_Red\", \"B_Yellow\", \"G_Red\", \"E_Yellow\", \"A_Red\", \n",
    "\"G_Yellow\", \"C_Red\", \"A_Yellow\", \"A_Red\", \"D_Yellow\", \"B_Red\", \"G_Yellow\", \"A_Red\", \"F_Yellow\", \"B_Red\", \n",
    "\"D_Yellow\", \"A_Red\", \"F_Yellow\", \"F_Red\", \"B_Yellow\", \"F_Red\", \"F_Yellow\", \"G_Red\", \"A_Yellow\", \"F_Red\", \n",
    "\"C_Yellow\", \"C_Red\", \"G_Yellow\", \"C_Red\", \"D_Yellow\", \"D_Red\", \"E_Yellow\", \"D_Red\", \"E_Yellow\", \"C_Red\", \n",
    "\"E_Yellow\", \"E_Red\"])"
   ]
  },
  {
   "cell_type": "code",
   "execution_count": 147,
   "metadata": {},
   "outputs": [
    {
     "data": {
      "text/plain": [
       "'Red'"
      ]
     },
     "execution_count": 147,
     "metadata": {},
     "output_type": "execute_result"
    }
   ],
   "source": [
    "# Test 3 - Red\n",
    "who_is_winner([\n",
    "\"F_Yellow\", \"G_Red\", \"D_Yellow\", \"C_Red\", \"A_Yellow\", \"A_Red\", \"E_Yellow\", \"D_Red\", \"D_Yellow\", \"F_Red\", \n",
    "\"B_Yellow\", \"E_Red\", \"C_Yellow\", \"D_Red\", \"F_Yellow\", \"D_Red\", \"D_Yellow\", \"F_Red\", \"G_Yellow\", \"C_Red\", \n",
    "\"F_Yellow\", \"E_Red\", \"A_Yellow\", \"A_Red\", \"C_Yellow\", \"B_Red\", \"E_Yellow\", \"C_Red\", \"E_Yellow\", \"G_Red\", \n",
    "\"A_Yellow\", \"A_Red\", \"G_Yellow\", \"C_Red\", \"B_Yellow\", \"E_Red\", \"F_Yellow\", \"G_Red\", \"G_Yellow\", \"B_Red\", \n",
    "\"B_Yellow\", \"B_Red\"\n",
    "])"
   ]
  },
  {
   "cell_type": "code",
   "execution_count": 148,
   "metadata": {},
   "outputs": [
    {
     "data": {
      "text/plain": [
       "'Red'"
      ]
     },
     "execution_count": 148,
     "metadata": {},
     "output_type": "execute_result"
    }
   ],
   "source": [
    "# Test 4 - Red\n",
    "who_is_winner([\n",
    "\"A_Yellow\", \"B_Red\", \"B_Yellow\", \"C_Red\", \"G_Yellow\", \"C_Red\", \"C_Yellow\", \"D_Red\", \"G_Yellow\", \"D_Red\",\n",
    "\"G_Yellow\", \"D_Red\", \"F_Yellow\", \"E_Red\", \"D_Yellow\"\n",
    "])"
   ]
  },
  {
   "cell_type": "code",
   "execution_count": 149,
   "metadata": {},
   "outputs": [
    {
     "data": {
      "text/plain": [
       "'Yellow'"
      ]
     },
     "execution_count": 149,
     "metadata": {},
     "output_type": "execute_result"
    }
   ],
   "source": [
    "# Test 5 - Yellow\n",
    "who_is_winner([\n",
    "\"A_Red\", \"B_Yellow\", \"A_Red\", \"B_Yellow\", \"A_Red\", \"B_Yellow\", \"G_Red\", \"B_Yellow\"\n",
    "])"
   ]
  },
  {
   "cell_type": "code",
   "execution_count": 150,
   "metadata": {},
   "outputs": [
    {
     "data": {
      "text/plain": [
       "'Draw'"
      ]
     },
     "execution_count": 150,
     "metadata": {},
     "output_type": "execute_result"
    }
   ],
   "source": [
    "# Test 6 - Draw\n",
    "who_is_winner([ \n",
    "\"A_Red\", \"B_Yellow\", \"A_Red\", \"E_Yellow\", \"F_Red\", \"G_Yellow\", \"A_Red\", \"G_Yellow\"\n",
    "])"
   ]
  },
  {
   "cell_type": "markdown",
   "metadata": {},
   "source": [
    "## Best Practice Solution"
   ]
  },
  {
   "cell_type": "code",
   "execution_count": 1,
   "metadata": {},
   "outputs": [],
   "source": [
    "COLUMNS, ROWS = 'ABCDEFG', range(6)\n",
    "LINES = [{(COLUMNS[i+k], ROWS[j]) for k in range(4)}\n",
    "           for i in range(len(COLUMNS) - 3) for j in range(len(ROWS))] \\\n",
    "        + [{(COLUMNS[i], ROWS[j+k]) for k in range(4)}\n",
    "           for i in range(len(COLUMNS)) for j in range(len(ROWS) - 3)] \\\n",
    "        + [{(COLUMNS[i+k], ROWS[j+k]) for k in range(4)}\n",
    "           for i in range(len(COLUMNS) - 3) for j in range(len(ROWS) - 3)] \\\n",
    "        + [{(COLUMNS[i+k], ROWS[j-k]) for k in range(4)}\n",
    "           for i in range(len(COLUMNS) - 3) for j in range(3, len(ROWS))]\n",
    "CELLS = {(x, y): [] for x in COLUMNS for y in ROWS}\n",
    "for line in LINES:\n",
    "    for cell in line:\n",
    "        CELLS[cell].append(line)\n",
    "\n",
    "def who_is_winner(pieces_positions):\n",
    "    players = {}\n",
    "    board = dict.fromkeys(COLUMNS, 0)\n",
    "    for position in pieces_positions:\n",
    "        column, player = position.split('_')\n",
    "        pos = (column, board[column])\n",
    "        board[column] += 1\n",
    "        players.setdefault(player, set()).add(pos)\n",
    "        if any(line <= players[player] for line in CELLS[pos]):\n",
    "            return player\n",
    "    return \"Draw\""
   ]
  },
  {
   "cell_type": "code",
   "execution_count": 2,
   "metadata": {
    "scrolled": true
   },
   "outputs": [
    {
     "data": {
      "text/plain": [
       "'Yellow'"
      ]
     },
     "execution_count": 2,
     "metadata": {},
     "output_type": "execute_result"
    }
   ],
   "source": [
    "who_is_winner([\n",
    "\"A_Red\", \"B_Yellow\", \"A_Red\", \"B_Yellow\", \"A_Red\", \"B_Yellow\", \"G_Red\", \"B_Yellow\"\n",
    "])"
   ]
  },
  {
   "cell_type": "code",
   "execution_count": 1,
   "metadata": {},
   "outputs": [
    {
     "data": {
      "text/plain": [
       "[{('A', 0), ('B', 0), ('C', 0), ('D', 0)},\n",
       " {('A', 1), ('B', 1), ('C', 1), ('D', 1)},\n",
       " {('A', 2), ('B', 2), ('C', 2), ('D', 2)},\n",
       " {('A', 3), ('B', 3), ('C', 3), ('D', 3)},\n",
       " {('A', 4), ('B', 4), ('C', 4), ('D', 4)},\n",
       " {('A', 5), ('B', 5), ('C', 5), ('D', 5)},\n",
       " {('B', 0), ('C', 0), ('D', 0), ('E', 0)},\n",
       " {('B', 1), ('C', 1), ('D', 1), ('E', 1)},\n",
       " {('B', 2), ('C', 2), ('D', 2), ('E', 2)},\n",
       " {('B', 3), ('C', 3), ('D', 3), ('E', 3)},\n",
       " {('B', 4), ('C', 4), ('D', 4), ('E', 4)},\n",
       " {('B', 5), ('C', 5), ('D', 5), ('E', 5)},\n",
       " {('C', 0), ('D', 0), ('E', 0), ('F', 0)},\n",
       " {('C', 1), ('D', 1), ('E', 1), ('F', 1)},\n",
       " {('C', 2), ('D', 2), ('E', 2), ('F', 2)},\n",
       " {('C', 3), ('D', 3), ('E', 3), ('F', 3)},\n",
       " {('C', 4), ('D', 4), ('E', 4), ('F', 4)},\n",
       " {('C', 5), ('D', 5), ('E', 5), ('F', 5)},\n",
       " {('D', 0), ('E', 0), ('F', 0), ('G', 0)},\n",
       " {('D', 1), ('E', 1), ('F', 1), ('G', 1)},\n",
       " {('D', 2), ('E', 2), ('F', 2), ('G', 2)},\n",
       " {('D', 3), ('E', 3), ('F', 3), ('G', 3)},\n",
       " {('D', 4), ('E', 4), ('F', 4), ('G', 4)},\n",
       " {('D', 5), ('E', 5), ('F', 5), ('G', 5)},\n",
       " {('A', 0), ('A', 1), ('A', 2), ('A', 3)},\n",
       " {('A', 1), ('A', 2), ('A', 3), ('A', 4)},\n",
       " {('A', 2), ('A', 3), ('A', 4), ('A', 5)},\n",
       " {('B', 0), ('B', 1), ('B', 2), ('B', 3)},\n",
       " {('B', 1), ('B', 2), ('B', 3), ('B', 4)},\n",
       " {('B', 2), ('B', 3), ('B', 4), ('B', 5)},\n",
       " {('C', 0), ('C', 1), ('C', 2), ('C', 3)},\n",
       " {('C', 1), ('C', 2), ('C', 3), ('C', 4)},\n",
       " {('C', 2), ('C', 3), ('C', 4), ('C', 5)},\n",
       " {('D', 0), ('D', 1), ('D', 2), ('D', 3)},\n",
       " {('D', 1), ('D', 2), ('D', 3), ('D', 4)},\n",
       " {('D', 2), ('D', 3), ('D', 4), ('D', 5)},\n",
       " {('E', 0), ('E', 1), ('E', 2), ('E', 3)},\n",
       " {('E', 1), ('E', 2), ('E', 3), ('E', 4)},\n",
       " {('E', 2), ('E', 3), ('E', 4), ('E', 5)},\n",
       " {('F', 0), ('F', 1), ('F', 2), ('F', 3)},\n",
       " {('F', 1), ('F', 2), ('F', 3), ('F', 4)},\n",
       " {('F', 2), ('F', 3), ('F', 4), ('F', 5)},\n",
       " {('G', 0), ('G', 1), ('G', 2), ('G', 3)},\n",
       " {('G', 1), ('G', 2), ('G', 3), ('G', 4)},\n",
       " {('G', 2), ('G', 3), ('G', 4), ('G', 5)},\n",
       " {('A', 0), ('B', 1), ('C', 2), ('D', 3)},\n",
       " {('A', 1), ('B', 2), ('C', 3), ('D', 4)},\n",
       " {('A', 2), ('B', 3), ('C', 4), ('D', 5)},\n",
       " {('B', 0), ('C', 1), ('D', 2), ('E', 3)},\n",
       " {('B', 1), ('C', 2), ('D', 3), ('E', 4)},\n",
       " {('B', 2), ('C', 3), ('D', 4), ('E', 5)},\n",
       " {('C', 0), ('D', 1), ('E', 2), ('F', 3)},\n",
       " {('C', 1), ('D', 2), ('E', 3), ('F', 4)},\n",
       " {('C', 2), ('D', 3), ('E', 4), ('F', 5)},\n",
       " {('D', 0), ('E', 1), ('F', 2), ('G', 3)},\n",
       " {('D', 1), ('E', 2), ('F', 3), ('G', 4)},\n",
       " {('D', 2), ('E', 3), ('F', 4), ('G', 5)},\n",
       " {('A', 3), ('B', 2), ('C', 1), ('D', 0)},\n",
       " {('A', 4), ('B', 3), ('C', 2), ('D', 1)},\n",
       " {('A', 5), ('B', 4), ('C', 3), ('D', 2)},\n",
       " {('B', 3), ('C', 2), ('D', 1), ('E', 0)},\n",
       " {('B', 4), ('C', 3), ('D', 2), ('E', 1)},\n",
       " {('B', 5), ('C', 4), ('D', 3), ('E', 2)},\n",
       " {('C', 3), ('D', 2), ('E', 1), ('F', 0)},\n",
       " {('C', 4), ('D', 3), ('E', 2), ('F', 1)},\n",
       " {('C', 5), ('D', 4), ('E', 3), ('F', 2)},\n",
       " {('D', 3), ('E', 2), ('F', 1), ('G', 0)},\n",
       " {('D', 4), ('E', 3), ('F', 2), ('G', 1)},\n",
       " {('D', 5), ('E', 4), ('F', 3), ('G', 2)}]"
      ]
     },
     "execution_count": 1,
     "metadata": {},
     "output_type": "execute_result"
    }
   ],
   "source": [
    "COLUMNS, ROWS = 'ABCDEFG', range(6)\n",
    "LINES = [{(COLUMNS[i+k], ROWS[j]) for k in range(4)}\n",
    "           for i in range(len(COLUMNS) - 3) for j in range(len(ROWS))] \\\n",
    "        + [{(COLUMNS[i], ROWS[j+k]) for k in range(4)}\n",
    "           for i in range(len(COLUMNS)) for j in range(len(ROWS) - 3)] \\\n",
    "        + [{(COLUMNS[i+k], ROWS[j+k]) for k in range(4)}\n",
    "           for i in range(len(COLUMNS) - 3) for j in range(len(ROWS) - 3)] \\\n",
    "        + [{(COLUMNS[i+k], ROWS[j-k]) for k in range(4)}\n",
    "           for i in range(len(COLUMNS) - 3) for j in range(3, len(ROWS))]\n",
    "\n",
    "LINES"
   ]
  },
  {
   "cell_type": "code",
   "execution_count": 2,
   "metadata": {},
   "outputs": [
    {
     "data": {
      "text/plain": [
       "{('A', 0): [],\n",
       " ('A', 1): [],\n",
       " ('A', 2): [],\n",
       " ('A', 3): [],\n",
       " ('A', 4): [],\n",
       " ('A', 5): [],\n",
       " ('B', 0): [],\n",
       " ('B', 1): [],\n",
       " ('B', 2): [],\n",
       " ('B', 3): [],\n",
       " ('B', 4): [],\n",
       " ('B', 5): [],\n",
       " ('C', 0): [],\n",
       " ('C', 1): [],\n",
       " ('C', 2): [],\n",
       " ('C', 3): [],\n",
       " ('C', 4): [],\n",
       " ('C', 5): [],\n",
       " ('D', 0): [],\n",
       " ('D', 1): [],\n",
       " ('D', 2): [],\n",
       " ('D', 3): [],\n",
       " ('D', 4): [],\n",
       " ('D', 5): [],\n",
       " ('E', 0): [],\n",
       " ('E', 1): [],\n",
       " ('E', 2): [],\n",
       " ('E', 3): [],\n",
       " ('E', 4): [],\n",
       " ('E', 5): [],\n",
       " ('F', 0): [],\n",
       " ('F', 1): [],\n",
       " ('F', 2): [],\n",
       " ('F', 3): [],\n",
       " ('F', 4): [],\n",
       " ('F', 5): [],\n",
       " ('G', 0): [],\n",
       " ('G', 1): [],\n",
       " ('G', 2): [],\n",
       " ('G', 3): [],\n",
       " ('G', 4): [],\n",
       " ('G', 5): []}"
      ]
     },
     "execution_count": 2,
     "metadata": {},
     "output_type": "execute_result"
    }
   ],
   "source": [
    "CELLS = {(x, y): [] for x in COLUMNS for y in ROWS}\n",
    "CELLS"
   ]
  },
  {
   "cell_type": "code",
   "execution_count": 3,
   "metadata": {},
   "outputs": [
    {
     "data": {
      "text/plain": [
       "{('A', 0): [{('A', 0), ('B', 0), ('C', 0), ('D', 0)},\n",
       "  {('A', 0), ('A', 1), ('A', 2), ('A', 3)},\n",
       "  {('A', 0), ('B', 1), ('C', 2), ('D', 3)}],\n",
       " ('A', 1): [{('A', 1), ('B', 1), ('C', 1), ('D', 1)},\n",
       "  {('A', 0), ('A', 1), ('A', 2), ('A', 3)},\n",
       "  {('A', 1), ('A', 2), ('A', 3), ('A', 4)},\n",
       "  {('A', 1), ('B', 2), ('C', 3), ('D', 4)}],\n",
       " ('A', 2): [{('A', 2), ('B', 2), ('C', 2), ('D', 2)},\n",
       "  {('A', 0), ('A', 1), ('A', 2), ('A', 3)},\n",
       "  {('A', 1), ('A', 2), ('A', 3), ('A', 4)},\n",
       "  {('A', 2), ('A', 3), ('A', 4), ('A', 5)},\n",
       "  {('A', 2), ('B', 3), ('C', 4), ('D', 5)}],\n",
       " ('A', 3): [{('A', 3), ('B', 3), ('C', 3), ('D', 3)},\n",
       "  {('A', 0), ('A', 1), ('A', 2), ('A', 3)},\n",
       "  {('A', 1), ('A', 2), ('A', 3), ('A', 4)},\n",
       "  {('A', 2), ('A', 3), ('A', 4), ('A', 5)},\n",
       "  {('A', 3), ('B', 2), ('C', 1), ('D', 0)}],\n",
       " ('A', 4): [{('A', 4), ('B', 4), ('C', 4), ('D', 4)},\n",
       "  {('A', 1), ('A', 2), ('A', 3), ('A', 4)},\n",
       "  {('A', 2), ('A', 3), ('A', 4), ('A', 5)},\n",
       "  {('A', 4), ('B', 3), ('C', 2), ('D', 1)}],\n",
       " ('A', 5): [{('A', 5), ('B', 5), ('C', 5), ('D', 5)},\n",
       "  {('A', 2), ('A', 3), ('A', 4), ('A', 5)},\n",
       "  {('A', 5), ('B', 4), ('C', 3), ('D', 2)}],\n",
       " ('B', 0): [{('A', 0), ('B', 0), ('C', 0), ('D', 0)},\n",
       "  {('B', 0), ('C', 0), ('D', 0), ('E', 0)},\n",
       "  {('B', 0), ('B', 1), ('B', 2), ('B', 3)},\n",
       "  {('B', 0), ('C', 1), ('D', 2), ('E', 3)}],\n",
       " ('B', 1): [{('A', 1), ('B', 1), ('C', 1), ('D', 1)},\n",
       "  {('B', 1), ('C', 1), ('D', 1), ('E', 1)},\n",
       "  {('B', 0), ('B', 1), ('B', 2), ('B', 3)},\n",
       "  {('B', 1), ('B', 2), ('B', 3), ('B', 4)},\n",
       "  {('A', 0), ('B', 1), ('C', 2), ('D', 3)},\n",
       "  {('B', 1), ('C', 2), ('D', 3), ('E', 4)}],\n",
       " ('B', 2): [{('A', 2), ('B', 2), ('C', 2), ('D', 2)},\n",
       "  {('B', 2), ('C', 2), ('D', 2), ('E', 2)},\n",
       "  {('B', 0), ('B', 1), ('B', 2), ('B', 3)},\n",
       "  {('B', 1), ('B', 2), ('B', 3), ('B', 4)},\n",
       "  {('B', 2), ('B', 3), ('B', 4), ('B', 5)},\n",
       "  {('A', 1), ('B', 2), ('C', 3), ('D', 4)},\n",
       "  {('B', 2), ('C', 3), ('D', 4), ('E', 5)},\n",
       "  {('A', 3), ('B', 2), ('C', 1), ('D', 0)}],\n",
       " ('B', 3): [{('A', 3), ('B', 3), ('C', 3), ('D', 3)},\n",
       "  {('B', 3), ('C', 3), ('D', 3), ('E', 3)},\n",
       "  {('B', 0), ('B', 1), ('B', 2), ('B', 3)},\n",
       "  {('B', 1), ('B', 2), ('B', 3), ('B', 4)},\n",
       "  {('B', 2), ('B', 3), ('B', 4), ('B', 5)},\n",
       "  {('A', 2), ('B', 3), ('C', 4), ('D', 5)},\n",
       "  {('A', 4), ('B', 3), ('C', 2), ('D', 1)},\n",
       "  {('B', 3), ('C', 2), ('D', 1), ('E', 0)}],\n",
       " ('B', 4): [{('A', 4), ('B', 4), ('C', 4), ('D', 4)},\n",
       "  {('B', 4), ('C', 4), ('D', 4), ('E', 4)},\n",
       "  {('B', 1), ('B', 2), ('B', 3), ('B', 4)},\n",
       "  {('B', 2), ('B', 3), ('B', 4), ('B', 5)},\n",
       "  {('A', 5), ('B', 4), ('C', 3), ('D', 2)},\n",
       "  {('B', 4), ('C', 3), ('D', 2), ('E', 1)}],\n",
       " ('B', 5): [{('A', 5), ('B', 5), ('C', 5), ('D', 5)},\n",
       "  {('B', 5), ('C', 5), ('D', 5), ('E', 5)},\n",
       "  {('B', 2), ('B', 3), ('B', 4), ('B', 5)},\n",
       "  {('B', 5), ('C', 4), ('D', 3), ('E', 2)}],\n",
       " ('C', 0): [{('A', 0), ('B', 0), ('C', 0), ('D', 0)},\n",
       "  {('B', 0), ('C', 0), ('D', 0), ('E', 0)},\n",
       "  {('C', 0), ('D', 0), ('E', 0), ('F', 0)},\n",
       "  {('C', 0), ('C', 1), ('C', 2), ('C', 3)},\n",
       "  {('C', 0), ('D', 1), ('E', 2), ('F', 3)}],\n",
       " ('C', 1): [{('A', 1), ('B', 1), ('C', 1), ('D', 1)},\n",
       "  {('B', 1), ('C', 1), ('D', 1), ('E', 1)},\n",
       "  {('C', 1), ('D', 1), ('E', 1), ('F', 1)},\n",
       "  {('C', 0), ('C', 1), ('C', 2), ('C', 3)},\n",
       "  {('C', 1), ('C', 2), ('C', 3), ('C', 4)},\n",
       "  {('B', 0), ('C', 1), ('D', 2), ('E', 3)},\n",
       "  {('C', 1), ('D', 2), ('E', 3), ('F', 4)},\n",
       "  {('A', 3), ('B', 2), ('C', 1), ('D', 0)}],\n",
       " ('C', 2): [{('A', 2), ('B', 2), ('C', 2), ('D', 2)},\n",
       "  {('B', 2), ('C', 2), ('D', 2), ('E', 2)},\n",
       "  {('C', 2), ('D', 2), ('E', 2), ('F', 2)},\n",
       "  {('C', 0), ('C', 1), ('C', 2), ('C', 3)},\n",
       "  {('C', 1), ('C', 2), ('C', 3), ('C', 4)},\n",
       "  {('C', 2), ('C', 3), ('C', 4), ('C', 5)},\n",
       "  {('A', 0), ('B', 1), ('C', 2), ('D', 3)},\n",
       "  {('B', 1), ('C', 2), ('D', 3), ('E', 4)},\n",
       "  {('C', 2), ('D', 3), ('E', 4), ('F', 5)},\n",
       "  {('A', 4), ('B', 3), ('C', 2), ('D', 1)},\n",
       "  {('B', 3), ('C', 2), ('D', 1), ('E', 0)}],\n",
       " ('C', 3): [{('A', 3), ('B', 3), ('C', 3), ('D', 3)},\n",
       "  {('B', 3), ('C', 3), ('D', 3), ('E', 3)},\n",
       "  {('C', 3), ('D', 3), ('E', 3), ('F', 3)},\n",
       "  {('C', 0), ('C', 1), ('C', 2), ('C', 3)},\n",
       "  {('C', 1), ('C', 2), ('C', 3), ('C', 4)},\n",
       "  {('C', 2), ('C', 3), ('C', 4), ('C', 5)},\n",
       "  {('A', 1), ('B', 2), ('C', 3), ('D', 4)},\n",
       "  {('B', 2), ('C', 3), ('D', 4), ('E', 5)},\n",
       "  {('A', 5), ('B', 4), ('C', 3), ('D', 2)},\n",
       "  {('B', 4), ('C', 3), ('D', 2), ('E', 1)},\n",
       "  {('C', 3), ('D', 2), ('E', 1), ('F', 0)}],\n",
       " ('C', 4): [{('A', 4), ('B', 4), ('C', 4), ('D', 4)},\n",
       "  {('B', 4), ('C', 4), ('D', 4), ('E', 4)},\n",
       "  {('C', 4), ('D', 4), ('E', 4), ('F', 4)},\n",
       "  {('C', 1), ('C', 2), ('C', 3), ('C', 4)},\n",
       "  {('C', 2), ('C', 3), ('C', 4), ('C', 5)},\n",
       "  {('A', 2), ('B', 3), ('C', 4), ('D', 5)},\n",
       "  {('B', 5), ('C', 4), ('D', 3), ('E', 2)},\n",
       "  {('C', 4), ('D', 3), ('E', 2), ('F', 1)}],\n",
       " ('C', 5): [{('A', 5), ('B', 5), ('C', 5), ('D', 5)},\n",
       "  {('B', 5), ('C', 5), ('D', 5), ('E', 5)},\n",
       "  {('C', 5), ('D', 5), ('E', 5), ('F', 5)},\n",
       "  {('C', 2), ('C', 3), ('C', 4), ('C', 5)},\n",
       "  {('C', 5), ('D', 4), ('E', 3), ('F', 2)}],\n",
       " ('D', 0): [{('A', 0), ('B', 0), ('C', 0), ('D', 0)},\n",
       "  {('B', 0), ('C', 0), ('D', 0), ('E', 0)},\n",
       "  {('C', 0), ('D', 0), ('E', 0), ('F', 0)},\n",
       "  {('D', 0), ('E', 0), ('F', 0), ('G', 0)},\n",
       "  {('D', 0), ('D', 1), ('D', 2), ('D', 3)},\n",
       "  {('D', 0), ('E', 1), ('F', 2), ('G', 3)},\n",
       "  {('A', 3), ('B', 2), ('C', 1), ('D', 0)}],\n",
       " ('D', 1): [{('A', 1), ('B', 1), ('C', 1), ('D', 1)},\n",
       "  {('B', 1), ('C', 1), ('D', 1), ('E', 1)},\n",
       "  {('C', 1), ('D', 1), ('E', 1), ('F', 1)},\n",
       "  {('D', 1), ('E', 1), ('F', 1), ('G', 1)},\n",
       "  {('D', 0), ('D', 1), ('D', 2), ('D', 3)},\n",
       "  {('D', 1), ('D', 2), ('D', 3), ('D', 4)},\n",
       "  {('C', 0), ('D', 1), ('E', 2), ('F', 3)},\n",
       "  {('D', 1), ('E', 2), ('F', 3), ('G', 4)},\n",
       "  {('A', 4), ('B', 3), ('C', 2), ('D', 1)},\n",
       "  {('B', 3), ('C', 2), ('D', 1), ('E', 0)}],\n",
       " ('D', 2): [{('A', 2), ('B', 2), ('C', 2), ('D', 2)},\n",
       "  {('B', 2), ('C', 2), ('D', 2), ('E', 2)},\n",
       "  {('C', 2), ('D', 2), ('E', 2), ('F', 2)},\n",
       "  {('D', 2), ('E', 2), ('F', 2), ('G', 2)},\n",
       "  {('D', 0), ('D', 1), ('D', 2), ('D', 3)},\n",
       "  {('D', 1), ('D', 2), ('D', 3), ('D', 4)},\n",
       "  {('D', 2), ('D', 3), ('D', 4), ('D', 5)},\n",
       "  {('B', 0), ('C', 1), ('D', 2), ('E', 3)},\n",
       "  {('C', 1), ('D', 2), ('E', 3), ('F', 4)},\n",
       "  {('D', 2), ('E', 3), ('F', 4), ('G', 5)},\n",
       "  {('A', 5), ('B', 4), ('C', 3), ('D', 2)},\n",
       "  {('B', 4), ('C', 3), ('D', 2), ('E', 1)},\n",
       "  {('C', 3), ('D', 2), ('E', 1), ('F', 0)}],\n",
       " ('D', 3): [{('A', 3), ('B', 3), ('C', 3), ('D', 3)},\n",
       "  {('B', 3), ('C', 3), ('D', 3), ('E', 3)},\n",
       "  {('C', 3), ('D', 3), ('E', 3), ('F', 3)},\n",
       "  {('D', 3), ('E', 3), ('F', 3), ('G', 3)},\n",
       "  {('D', 0), ('D', 1), ('D', 2), ('D', 3)},\n",
       "  {('D', 1), ('D', 2), ('D', 3), ('D', 4)},\n",
       "  {('D', 2), ('D', 3), ('D', 4), ('D', 5)},\n",
       "  {('A', 0), ('B', 1), ('C', 2), ('D', 3)},\n",
       "  {('B', 1), ('C', 2), ('D', 3), ('E', 4)},\n",
       "  {('C', 2), ('D', 3), ('E', 4), ('F', 5)},\n",
       "  {('B', 5), ('C', 4), ('D', 3), ('E', 2)},\n",
       "  {('C', 4), ('D', 3), ('E', 2), ('F', 1)},\n",
       "  {('D', 3), ('E', 2), ('F', 1), ('G', 0)}],\n",
       " ('D', 4): [{('A', 4), ('B', 4), ('C', 4), ('D', 4)},\n",
       "  {('B', 4), ('C', 4), ('D', 4), ('E', 4)},\n",
       "  {('C', 4), ('D', 4), ('E', 4), ('F', 4)},\n",
       "  {('D', 4), ('E', 4), ('F', 4), ('G', 4)},\n",
       "  {('D', 1), ('D', 2), ('D', 3), ('D', 4)},\n",
       "  {('D', 2), ('D', 3), ('D', 4), ('D', 5)},\n",
       "  {('A', 1), ('B', 2), ('C', 3), ('D', 4)},\n",
       "  {('B', 2), ('C', 3), ('D', 4), ('E', 5)},\n",
       "  {('C', 5), ('D', 4), ('E', 3), ('F', 2)},\n",
       "  {('D', 4), ('E', 3), ('F', 2), ('G', 1)}],\n",
       " ('D', 5): [{('A', 5), ('B', 5), ('C', 5), ('D', 5)},\n",
       "  {('B', 5), ('C', 5), ('D', 5), ('E', 5)},\n",
       "  {('C', 5), ('D', 5), ('E', 5), ('F', 5)},\n",
       "  {('D', 5), ('E', 5), ('F', 5), ('G', 5)},\n",
       "  {('D', 2), ('D', 3), ('D', 4), ('D', 5)},\n",
       "  {('A', 2), ('B', 3), ('C', 4), ('D', 5)},\n",
       "  {('D', 5), ('E', 4), ('F', 3), ('G', 2)}],\n",
       " ('E', 0): [{('B', 0), ('C', 0), ('D', 0), ('E', 0)},\n",
       "  {('C', 0), ('D', 0), ('E', 0), ('F', 0)},\n",
       "  {('D', 0), ('E', 0), ('F', 0), ('G', 0)},\n",
       "  {('E', 0), ('E', 1), ('E', 2), ('E', 3)},\n",
       "  {('B', 3), ('C', 2), ('D', 1), ('E', 0)}],\n",
       " ('E', 1): [{('B', 1), ('C', 1), ('D', 1), ('E', 1)},\n",
       "  {('C', 1), ('D', 1), ('E', 1), ('F', 1)},\n",
       "  {('D', 1), ('E', 1), ('F', 1), ('G', 1)},\n",
       "  {('E', 0), ('E', 1), ('E', 2), ('E', 3)},\n",
       "  {('E', 1), ('E', 2), ('E', 3), ('E', 4)},\n",
       "  {('D', 0), ('E', 1), ('F', 2), ('G', 3)},\n",
       "  {('B', 4), ('C', 3), ('D', 2), ('E', 1)},\n",
       "  {('C', 3), ('D', 2), ('E', 1), ('F', 0)}],\n",
       " ('E', 2): [{('B', 2), ('C', 2), ('D', 2), ('E', 2)},\n",
       "  {('C', 2), ('D', 2), ('E', 2), ('F', 2)},\n",
       "  {('D', 2), ('E', 2), ('F', 2), ('G', 2)},\n",
       "  {('E', 0), ('E', 1), ('E', 2), ('E', 3)},\n",
       "  {('E', 1), ('E', 2), ('E', 3), ('E', 4)},\n",
       "  {('E', 2), ('E', 3), ('E', 4), ('E', 5)},\n",
       "  {('C', 0), ('D', 1), ('E', 2), ('F', 3)},\n",
       "  {('D', 1), ('E', 2), ('F', 3), ('G', 4)},\n",
       "  {('B', 5), ('C', 4), ('D', 3), ('E', 2)},\n",
       "  {('C', 4), ('D', 3), ('E', 2), ('F', 1)},\n",
       "  {('D', 3), ('E', 2), ('F', 1), ('G', 0)}],\n",
       " ('E', 3): [{('B', 3), ('C', 3), ('D', 3), ('E', 3)},\n",
       "  {('C', 3), ('D', 3), ('E', 3), ('F', 3)},\n",
       "  {('D', 3), ('E', 3), ('F', 3), ('G', 3)},\n",
       "  {('E', 0), ('E', 1), ('E', 2), ('E', 3)},\n",
       "  {('E', 1), ('E', 2), ('E', 3), ('E', 4)},\n",
       "  {('E', 2), ('E', 3), ('E', 4), ('E', 5)},\n",
       "  {('B', 0), ('C', 1), ('D', 2), ('E', 3)},\n",
       "  {('C', 1), ('D', 2), ('E', 3), ('F', 4)},\n",
       "  {('D', 2), ('E', 3), ('F', 4), ('G', 5)},\n",
       "  {('C', 5), ('D', 4), ('E', 3), ('F', 2)},\n",
       "  {('D', 4), ('E', 3), ('F', 2), ('G', 1)}],\n",
       " ('E', 4): [{('B', 4), ('C', 4), ('D', 4), ('E', 4)},\n",
       "  {('C', 4), ('D', 4), ('E', 4), ('F', 4)},\n",
       "  {('D', 4), ('E', 4), ('F', 4), ('G', 4)},\n",
       "  {('E', 1), ('E', 2), ('E', 3), ('E', 4)},\n",
       "  {('E', 2), ('E', 3), ('E', 4), ('E', 5)},\n",
       "  {('B', 1), ('C', 2), ('D', 3), ('E', 4)},\n",
       "  {('C', 2), ('D', 3), ('E', 4), ('F', 5)},\n",
       "  {('D', 5), ('E', 4), ('F', 3), ('G', 2)}],\n",
       " ('E', 5): [{('B', 5), ('C', 5), ('D', 5), ('E', 5)},\n",
       "  {('C', 5), ('D', 5), ('E', 5), ('F', 5)},\n",
       "  {('D', 5), ('E', 5), ('F', 5), ('G', 5)},\n",
       "  {('E', 2), ('E', 3), ('E', 4), ('E', 5)},\n",
       "  {('B', 2), ('C', 3), ('D', 4), ('E', 5)}],\n",
       " ('F', 0): [{('C', 0), ('D', 0), ('E', 0), ('F', 0)},\n",
       "  {('D', 0), ('E', 0), ('F', 0), ('G', 0)},\n",
       "  {('F', 0), ('F', 1), ('F', 2), ('F', 3)},\n",
       "  {('C', 3), ('D', 2), ('E', 1), ('F', 0)}],\n",
       " ('F', 1): [{('C', 1), ('D', 1), ('E', 1), ('F', 1)},\n",
       "  {('D', 1), ('E', 1), ('F', 1), ('G', 1)},\n",
       "  {('F', 0), ('F', 1), ('F', 2), ('F', 3)},\n",
       "  {('F', 1), ('F', 2), ('F', 3), ('F', 4)},\n",
       "  {('C', 4), ('D', 3), ('E', 2), ('F', 1)},\n",
       "  {('D', 3), ('E', 2), ('F', 1), ('G', 0)}],\n",
       " ('F', 2): [{('C', 2), ('D', 2), ('E', 2), ('F', 2)},\n",
       "  {('D', 2), ('E', 2), ('F', 2), ('G', 2)},\n",
       "  {('F', 0), ('F', 1), ('F', 2), ('F', 3)},\n",
       "  {('F', 1), ('F', 2), ('F', 3), ('F', 4)},\n",
       "  {('F', 2), ('F', 3), ('F', 4), ('F', 5)},\n",
       "  {('D', 0), ('E', 1), ('F', 2), ('G', 3)},\n",
       "  {('C', 5), ('D', 4), ('E', 3), ('F', 2)},\n",
       "  {('D', 4), ('E', 3), ('F', 2), ('G', 1)}],\n",
       " ('F', 3): [{('C', 3), ('D', 3), ('E', 3), ('F', 3)},\n",
       "  {('D', 3), ('E', 3), ('F', 3), ('G', 3)},\n",
       "  {('F', 0), ('F', 1), ('F', 2), ('F', 3)},\n",
       "  {('F', 1), ('F', 2), ('F', 3), ('F', 4)},\n",
       "  {('F', 2), ('F', 3), ('F', 4), ('F', 5)},\n",
       "  {('C', 0), ('D', 1), ('E', 2), ('F', 3)},\n",
       "  {('D', 1), ('E', 2), ('F', 3), ('G', 4)},\n",
       "  {('D', 5), ('E', 4), ('F', 3), ('G', 2)}],\n",
       " ('F', 4): [{('C', 4), ('D', 4), ('E', 4), ('F', 4)},\n",
       "  {('D', 4), ('E', 4), ('F', 4), ('G', 4)},\n",
       "  {('F', 1), ('F', 2), ('F', 3), ('F', 4)},\n",
       "  {('F', 2), ('F', 3), ('F', 4), ('F', 5)},\n",
       "  {('C', 1), ('D', 2), ('E', 3), ('F', 4)},\n",
       "  {('D', 2), ('E', 3), ('F', 4), ('G', 5)}],\n",
       " ('F', 5): [{('C', 5), ('D', 5), ('E', 5), ('F', 5)},\n",
       "  {('D', 5), ('E', 5), ('F', 5), ('G', 5)},\n",
       "  {('F', 2), ('F', 3), ('F', 4), ('F', 5)},\n",
       "  {('C', 2), ('D', 3), ('E', 4), ('F', 5)}],\n",
       " ('G', 0): [{('D', 0), ('E', 0), ('F', 0), ('G', 0)},\n",
       "  {('G', 0), ('G', 1), ('G', 2), ('G', 3)},\n",
       "  {('D', 3), ('E', 2), ('F', 1), ('G', 0)}],\n",
       " ('G', 1): [{('D', 1), ('E', 1), ('F', 1), ('G', 1)},\n",
       "  {('G', 0), ('G', 1), ('G', 2), ('G', 3)},\n",
       "  {('G', 1), ('G', 2), ('G', 3), ('G', 4)},\n",
       "  {('D', 4), ('E', 3), ('F', 2), ('G', 1)}],\n",
       " ('G', 2): [{('D', 2), ('E', 2), ('F', 2), ('G', 2)},\n",
       "  {('G', 0), ('G', 1), ('G', 2), ('G', 3)},\n",
       "  {('G', 1), ('G', 2), ('G', 3), ('G', 4)},\n",
       "  {('G', 2), ('G', 3), ('G', 4), ('G', 5)},\n",
       "  {('D', 5), ('E', 4), ('F', 3), ('G', 2)}],\n",
       " ('G', 3): [{('D', 3), ('E', 3), ('F', 3), ('G', 3)},\n",
       "  {('G', 0), ('G', 1), ('G', 2), ('G', 3)},\n",
       "  {('G', 1), ('G', 2), ('G', 3), ('G', 4)},\n",
       "  {('G', 2), ('G', 3), ('G', 4), ('G', 5)},\n",
       "  {('D', 0), ('E', 1), ('F', 2), ('G', 3)}],\n",
       " ('G', 4): [{('D', 4), ('E', 4), ('F', 4), ('G', 4)},\n",
       "  {('G', 1), ('G', 2), ('G', 3), ('G', 4)},\n",
       "  {('G', 2), ('G', 3), ('G', 4), ('G', 5)},\n",
       "  {('D', 1), ('E', 2), ('F', 3), ('G', 4)}],\n",
       " ('G', 5): [{('D', 5), ('E', 5), ('F', 5), ('G', 5)},\n",
       "  {('G', 2), ('G', 3), ('G', 4), ('G', 5)},\n",
       "  {('D', 2), ('E', 3), ('F', 4), ('G', 5)}]}"
      ]
     },
     "execution_count": 3,
     "metadata": {},
     "output_type": "execute_result"
    }
   ],
   "source": [
    "for line in LINES:\n",
    "    for cell in line:\n",
    "        CELLS[cell].append(line)\n",
    "        \n",
    "CELLS"
   ]
  },
  {
   "cell_type": "code",
   "execution_count": null,
   "metadata": {},
   "outputs": [],
   "source": []
  }
 ],
 "metadata": {
  "kernelspec": {
   "display_name": "Python 3",
   "language": "python",
   "name": "python3"
  },
  "language_info": {
   "codemirror_mode": {
    "name": "ipython",
    "version": 3
   },
   "file_extension": ".py",
   "mimetype": "text/x-python",
   "name": "python",
   "nbconvert_exporter": "python",
   "pygments_lexer": "ipython3",
   "version": "3.7.7"
  },
  "toc": {
   "base_numbering": 1,
   "nav_menu": {},
   "number_sections": true,
   "sideBar": true,
   "skip_h1_title": false,
   "title_cell": "Table of Contents",
   "title_sidebar": "Contents",
   "toc_cell": false,
   "toc_position": {},
   "toc_section_display": true,
   "toc_window_display": false
  }
 },
 "nbformat": 4,
 "nbformat_minor": 4
}
