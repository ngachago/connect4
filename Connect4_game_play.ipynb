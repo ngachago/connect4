{
 "cells": [
  {
   "cell_type": "code",
   "execution_count": 1,
   "id": "binary-region",
   "metadata": {},
   "outputs": [],
   "source": [
    "import time"
   ]
  },
  {
   "cell_type": "code",
   "execution_count": 4,
   "id": "guided-protection",
   "metadata": {},
   "outputs": [],
   "source": [
    "class Game:\n",
    "    def __init__(self):\n",
    "        self.start_game()\n",
    "        \n",
    "    def start_game(self):\n",
    "        self.board = [['.', '.', '.', '.', '.', '.', '.'],\n",
    "                      ['.', '.', '.', '.', '.', '.', '.'],\n",
    "                      ['.', '.', '.', '.', '.', '.', '.'],\n",
    "                      ['.', '.', '.', '.', '.', '.', '.'],\n",
    "                      ['.', '.', '.', '.', '.', '.', '.'],\n",
    "                      ['.', '.', '.', '.', '.', '.', '.']]\n",
    "        \n",
    "        # Player with yellow pieces plays first\n",
    "        self.player_turn = 'Y'\n",
    "        \n",
    "    def draw_board(self):\n",
    "        for i in range(0, 6):\n",
    "            for j in range(0, 7):\n",
    "                print('{}|'.format(self.board[i][j]), end=' ')\n",
    "            print()\n",
    "        print()\n",
    "        \n",
    "    def is_legal(self, px, py):\n",
    "        '''Check for legal moves:\n",
    "            - positions exist on board\n",
    "            - positions are not occupied by a game piece\n",
    "        '''\n",
    "        if px < 0 or px > 5 or py < 0 or py > 6:\n",
    "            return False\n",
    "        elif self.board[px][py] != '.':\n",
    "            return False\n",
    "        return True\n",
    "    \n",
    "    def game_over(self):\n",
    "        '''Check for game-ending conditions and return the winner'''\n",
    "        \n",
    "        columns, rows = range(7), range(6)\n",
    "        lines = [{(columns[i+k], rows[j]) for k in range(4)}\n",
    "                   for i in range(len(columns) - 3) for j in range(len(rows))] \\\n",
    "                + [{(columns[i], rows[j+k]) for k in range(4)}\n",
    "                   for i in range(len(columns)) for j in range(len(rows) - 3)] \\\n",
    "                + [{(columns[i+k], rows[j+k]) for k in range(4)}\n",
    "                   for i in range(len(columns) - 3) for j in range(len(rows) - 3)] \\\n",
    "                + [{(columns[i+k], rows[j-k]) for k in range(4)}\n",
    "                   for i in range(len(columns) - 3) for j in range(3, len(rows))]\n",
    "        cells = {(x, y): [] for x in columns for y in rows}\n",
    "        for line in lines:\n",
    "            for cell in line:\n",
    "                cells[cell].append(line)\n",
    "        \n",
    "        players = {}\n",
    "        board = dict.fromkeys(columns, 0)\n",
    "#         for position in pieces_positions:\n",
    "#             column, player = position.split('_')\n",
    "            pos = (column, board[column])\n",
    "            board[column] += 1\n",
    "            players.setdefault(player, set()).add(pos)\n",
    "            if any(line <= players[player] for line in CELLS[pos]):\n",
    "                return player\n",
    "        return \"Draw\"  # This set up is populating the board. I need to figure out how to read the populated board."
   ]
  },
  {
   "cell_type": "code",
   "execution_count": 7,
   "id": "embedded-sensitivity",
   "metadata": {},
   "outputs": [
    {
     "data": {
      "text/plain": [
       "{0: 0, 1: 0, 2: 0, 3: 0, 4: 0, 5: 0, 6: 0}"
      ]
     },
     "execution_count": 7,
     "metadata": {},
     "output_type": "execute_result"
    }
   ],
   "source": [
    "columns, rows = range(7), range(6)\n",
    "board = dict.fromkeys(columns, 0)\n",
    "board"
   ]
  },
  {
   "cell_type": "code",
   "execution_count": null,
   "id": "liquid-portal",
   "metadata": {},
   "outputs": [],
   "source": []
  },
  {
   "cell_type": "code",
   "execution_count": null,
   "id": "finnish-delaware",
   "metadata": {},
   "outputs": [],
   "source": []
  }
 ],
 "metadata": {
  "kernelspec": {
   "display_name": "Python 3",
   "language": "python",
   "name": "python3"
  },
  "language_info": {
   "codemirror_mode": {
    "name": "ipython",
    "version": 3
   },
   "file_extension": ".py",
   "mimetype": "text/x-python",
   "name": "python",
   "nbconvert_exporter": "python",
   "pygments_lexer": "ipython3",
   "version": "3.7.7"
  },
  "toc": {
   "base_numbering": 1,
   "nav_menu": {},
   "number_sections": true,
   "sideBar": true,
   "skip_h1_title": false,
   "title_cell": "Table of Contents",
   "title_sidebar": "Contents",
   "toc_cell": false,
   "toc_position": {},
   "toc_section_display": true,
   "toc_window_display": false
  }
 },
 "nbformat": 4,
 "nbformat_minor": 5
}
